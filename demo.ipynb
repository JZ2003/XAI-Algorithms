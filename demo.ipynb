{
 "cells": [
  {
   "cell_type": "code",
   "execution_count": 1,
   "metadata": {},
   "outputs": [],
   "source": [
    "%load_ext autoreload\n",
    "%autoreload 2\n",
    "from NNF import *\n",
    "from algorithms import *\n",
    "from utils import view\n",
    "\n",
    "from IPython.display import Latex\n"
   ]
  },
  {
   "cell_type": "code",
   "execution_count": 2,
   "metadata": {},
   "outputs": [
    {
     "name": "stdout",
     "output_type": "stream",
     "text": [
      "False\n",
      "[<NNF.AND object at 0x108c19c10>, <NNF.AND object at 0x108c1ba10>, <NNF.OR object at 0x108c1bd10>]\n"
     ]
    },
    {
     "data": {
      "text/latex": [
       "$(x_{1[12]}y_{2})(z_{1}w_{3}x_{1[12]})(x_{1[12]}+w_{3}+(q_{1}p_{1})+(z_{1}+y_{2}))$"
      ],
      "text/plain": [
       "<IPython.core.display.Latex object>"
      ]
     },
     "metadata": {},
     "output_type": "display_data"
    }
   ],
   "source": [
    "x1 = Lit('x',{1,12})\n",
    "x2 = Lit('x',{2})\n",
    "y2 = Lit('y',{2})\n",
    "z1 = Lit('z',{1})\n",
    "w3 = Lit('w',{3})\n",
    "p1 = Lit('p',{1})\n",
    "q1 = Lit('q',{1})\n",
    "\n",
    "\n",
    "print(AUTO_SIMPLIFY)\n",
    "f2 =  AND([AND([x1,y2]), AND([z1,w3,x1]), OR([x1,w3,AND([q1,p1]),OR([z1,y2])])])\n",
    "print(f2.subs)\n",
    "\n",
    "\n",
    "view(f2)"
   ]
  },
  {
   "cell_type": "markdown",
   "metadata": {},
   "source": [
    "## SR_monotone Demo"
   ]
  },
  {
   "cell_type": "code",
   "execution_count": 39,
   "metadata": {},
   "outputs": [
    {
     "name": "stdout",
     "output_type": "stream",
     "text": [
      "Base Case:\n",
      "The SRs of TRUE:\n"
     ]
    },
    {
     "ename": "AttributeError",
     "evalue": "'set' object has no attribute 'latex_view'",
     "output_type": "error",
     "traceback": [
      "\u001b[0;31m---------------------------------------------------------------------------\u001b[0m",
      "\u001b[0;31mAttributeError\u001b[0m                            Traceback (most recent call last)",
      "Cell \u001b[0;32mIn[39], line 12\u001b[0m\n\u001b[1;32m     10\u001b[0m \u001b[38;5;28mprint\u001b[39m(\u001b[38;5;124mf\u001b[39m\u001b[38;5;124m\"\u001b[39m\u001b[38;5;124mThe SRs of TRUE:\u001b[39m\u001b[38;5;124m\"\u001b[39m)\n\u001b[1;32m     11\u001b[0m \u001b[38;5;28;01mfor\u001b[39;00m s \u001b[38;5;129;01min\u001b[39;00m SR_monotone(TRUE,check_correctness\u001b[38;5;241m=\u001b[39m\u001b[38;5;28;01mTrue\u001b[39;00m,use_decomposability\u001b[38;5;241m=\u001b[39m\u001b[38;5;28;01mTrue\u001b[39;00m):\n\u001b[0;32m---> 12\u001b[0m     \u001b[43mview\u001b[49m\u001b[43m(\u001b[49m\u001b[43ms\u001b[49m\u001b[43m)\u001b[49m\n\u001b[1;32m     13\u001b[0m \u001b[38;5;28mprint\u001b[39m(\u001b[38;5;124m'\u001b[39m\u001b[38;5;124m---------\u001b[39m\u001b[38;5;124m'\u001b[39m)\n\u001b[1;32m     14\u001b[0m \u001b[38;5;28mprint\u001b[39m(\u001b[38;5;124mf\u001b[39m\u001b[38;5;124m\"\u001b[39m\u001b[38;5;124mThe SRs of FALSE:\u001b[39m\u001b[38;5;124m\"\u001b[39m)\n",
      "File \u001b[0;32m~/Desktop/XAI-Algorithms/utils.py:6\u001b[0m, in \u001b[0;36mview\u001b[0;34m(obj)\u001b[0m\n\u001b[1;32m      5\u001b[0m \u001b[39mdef\u001b[39;00m \u001b[39mview\u001b[39m(obj:NNF\u001b[39m|\u001b[39mHashDict):\n\u001b[0;32m----> 6\u001b[0m     string \u001b[39m=\u001b[39m obj\u001b[39m.\u001b[39;49mlatex_view()\n\u001b[1;32m      7\u001b[0m     string \u001b[39m=\u001b[39m \u001b[39mrf\u001b[39m\u001b[39m\"\u001b[39m\u001b[39m$\u001b[39m\u001b[39m{\u001b[39;00mstring\u001b[39m}\u001b[39;00m\u001b[39m$\u001b[39m\u001b[39m\"\u001b[39m\n\u001b[1;32m      8\u001b[0m     display(Latex(string))\n",
      "\u001b[0;31mAttributeError\u001b[0m: 'set' object has no attribute 'latex_view'"
     ]
    }
   ],
   "source": [
    "x1 = Lit('x',{1})\n",
    "x2 = Lit('x',{2})\n",
    "y2 = Lit('y',{2})\n",
    "z1 = Lit('z',{1})\n",
    "w3 = Lit('w',{3})\n",
    "p1 = Lit('p',{1})\n",
    "q1 = Lit('q',{1})\n",
    "\n",
    "print(\"Base Case:\")\n",
    "print(f\"The SRs of TRUE:\")\n",
    "for s in SR_monotone(TRUE,check_correctness=True,use_decomposability=True):\n",
    "    view(s)\n",
    "print('---------')\n",
    "print(f\"The SRs of FALSE:\")\n",
    "for s in SR_monotone(FALSE,check_correctness=True,use_decomposability=True):\n",
    "    view(s)\n",
    "print('---------')\n",
    "f1 = AND([OR([x1,y2]), OR([z1,w3])])\n",
    "print(f\"f1: {f1}\")\n",
    "print(f\"The SRs of f1:\")\n",
    "for s in SR_monotone(f1,check_correctness=True,use_decomposability=True):\n",
    "    view(s)\n",
    "\n",
    "print('---------')\n",
    "print(\"With subsumption:\")\n",
    "f2 = AND([AND([x1,y2]), OR([z1,w3,x1])])\n",
    "print(f\"f2: {f2}\")\n",
    "print(f\"The SRs of f2:\")\n",
    "for s in SR_monotone(f2,check_correctness=True,use_decomposability=True):\n",
    "    view(s)\n",
    "\n",
    "print('---------')\n",
    "\n",
    "f3 = AND([OR([x1,y2]), OR([z1,w3]),AND([p1,q1])])\n",
    "print(f\"f3: {f3}\")\n",
    "print(f\"The SRs of f3:\")\n",
    "for s in SR_monotone(f3):\n",
    "    view(s)"
   ]
  },
  {
   "cell_type": "markdown",
   "metadata": {},
   "source": [
    "## NR_monotone Demo"
   ]
  },
  {
   "cell_type": "code",
   "execution_count": null,
   "metadata": {},
   "outputs": [
    {
     "name": "stdout",
     "output_type": "stream",
     "text": [
      "Base Case:\n",
      "The NRs of TRUE:\n",
      "---------\n",
      "The NRs of FALSE:\n"
     ]
    },
    {
     "data": {
      "text/latex": [
       "$\\text{False}$"
      ],
      "text/plain": [
       "<IPython.core.display.Latex object>"
      ]
     },
     "metadata": {},
     "output_type": "display_data"
    },
    {
     "name": "stdout",
     "output_type": "stream",
     "text": [
      "---------\n",
      "f1: ((x[1]+y[2])*(z[1]+w[3]))\n",
      "The NRs of f1:\n"
     ]
    },
    {
     "data": {
      "text/latex": [
       "$x_{1}+y_{2}$"
      ],
      "text/plain": [
       "<IPython.core.display.Latex object>"
      ]
     },
     "metadata": {},
     "output_type": "display_data"
    },
    {
     "data": {
      "text/latex": [
       "$z_{1}+w_{3}$"
      ],
      "text/plain": [
       "<IPython.core.display.Latex object>"
      ]
     },
     "metadata": {},
     "output_type": "display_data"
    },
    {
     "name": "stdout",
     "output_type": "stream",
     "text": [
      "---------\n",
      "f2: ((x[1]*y[2])*(z[1]+w[3]))\n",
      "The NRs of f2:\n"
     ]
    },
    {
     "data": {
      "text/latex": [
       "$x_{1}$"
      ],
      "text/plain": [
       "<IPython.core.display.Latex object>"
      ]
     },
     "metadata": {},
     "output_type": "display_data"
    },
    {
     "data": {
      "text/latex": [
       "$y_{2}$"
      ],
      "text/plain": [
       "<IPython.core.display.Latex object>"
      ]
     },
     "metadata": {},
     "output_type": "display_data"
    },
    {
     "data": {
      "text/latex": [
       "$z_{1}+w_{3}$"
      ],
      "text/plain": [
       "<IPython.core.display.Latex object>"
      ]
     },
     "metadata": {},
     "output_type": "display_data"
    },
    {
     "name": "stdout",
     "output_type": "stream",
     "text": [
      "---------\n",
      "f3\n"
     ]
    },
    {
     "data": {
      "text/latex": [
       "$(x_{1}+y_{2})(z_{1}w_{3})$"
      ],
      "text/plain": [
       "<IPython.core.display.Latex object>"
      ]
     },
     "metadata": {},
     "output_type": "display_data"
    },
    {
     "name": "stdout",
     "output_type": "stream",
     "text": [
      "The NRs of f3:\n"
     ]
    },
    {
     "data": {
      "text/latex": [
       "$z_{1}$"
      ],
      "text/plain": [
       "<IPython.core.display.Latex object>"
      ]
     },
     "metadata": {},
     "output_type": "display_data"
    },
    {
     "data": {
      "text/latex": [
       "$w_{3}$"
      ],
      "text/plain": [
       "<IPython.core.display.Latex object>"
      ]
     },
     "metadata": {},
     "output_type": "display_data"
    },
    {
     "data": {
      "text/latex": [
       "$x_{1}+y_{2}$"
      ],
      "text/plain": [
       "<IPython.core.display.Latex object>"
      ]
     },
     "metadata": {},
     "output_type": "display_data"
    }
   ],
   "source": [
    "x1 = Lit('x',{1})\n",
    "x2 = Lit('x',{2})\n",
    "y2 = Lit('y',{2})\n",
    "z1 = Lit('z',{1})\n",
    "w3 = Lit('w',{3})\n",
    "\n",
    "\n",
    "print(\"Base Case:\")\n",
    "print(f\"The NRs of TRUE:\")\n",
    "for s in NR_monotone(TRUE,check_correctness=True,use_decomposability=True):\n",
    "    view(s)\n",
    "print('---------')\n",
    "print(f\"The NRs of FALSE:\")\n",
    "for s in NR_monotone(FALSE,check_correctness=True,use_decomposability=True):\n",
    "    view(s)\n",
    "print('---------')\n",
    "\n",
    "\n",
    "f1 = AND([OR([x1,y2]), OR([z1,w3])])\n",
    "print(f\"f1: {f1}\")\n",
    "print(f\"The NRs of f1:\")\n",
    "for s in NR_monotone(f1,check_correctness=True,use_decomposability=False):\n",
    "    view(s)\n",
    "\n",
    "print('---------')\n",
    "\n",
    "f2 = AND([AND([x1,y2]), OR([z1,w3])])\n",
    "print(f\"f2: {f2}\")\n",
    "print(f\"The NRs of f2:\")\n",
    "for s in NR_monotone(f2,check_correctness=True,use_decomposability=False):\n",
    "    view(s)\n",
    "\n",
    "print('---------')\n",
    "\n",
    "f3 = AND([OR([x1,y2]), AND([z1,w3])])\n",
    "print(f\"f3\")\n",
    "view(f3)\n",
    "print(f\"The NRs of f3:\")\n",
    "for s in NR_monotone(f3):\n",
    "    view(s)"
   ]
  },
  {
   "cell_type": "code",
   "execution_count": null,
   "metadata": {},
   "outputs": [
    {
     "name": "stdout",
     "output_type": "stream",
     "text": [
      "Base Case:\n",
      "The GSRs of TRUE:\n",
      "True\n",
      "---------\n",
      "The GSRs of FALSE:\n",
      "---------\n",
      "f1: (y[0,1,2,3,4,5,6,7,8,9,10,11,12,13,14,15,16]*(x[1]+(y[2]*w[3])))\n",
      "The GSRs of f1:\n"
     ]
    },
    {
     "data": {
      "text/latex": [
       "$y_{0123456789[10][11][12][13][14][15][16]}x_{1}$"
      ],
      "text/plain": [
       "<IPython.core.display.Latex object>"
      ]
     },
     "metadata": {},
     "output_type": "display_data"
    },
    {
     "data": {
      "text/latex": [
       "$y_{2}w_{3}$"
      ],
      "text/plain": [
       "<IPython.core.display.Latex object>"
      ]
     },
     "metadata": {},
     "output_type": "display_data"
    },
    {
     "name": "stdout",
     "output_type": "stream",
     "text": [
      "----\n",
      "The var-min GSRs of f1:\n"
     ]
    },
    {
     "data": {
      "text/latex": [
       "$y_{0123456789[10][11][12][13][14][15][16]}x_{1}$"
      ],
      "text/plain": [
       "<IPython.core.display.Latex object>"
      ]
     },
     "metadata": {},
     "output_type": "display_data"
    },
    {
     "data": {
      "text/latex": [
       "$y_{2}w_{3}$"
      ],
      "text/plain": [
       "<IPython.core.display.Latex object>"
      ]
     },
     "metadata": {},
     "output_type": "display_data"
    },
    {
     "name": "stdout",
     "output_type": "stream",
     "text": [
      "----\n",
      "f2: ((y[3]+(x[1,2]*y[1,3])))\n",
      "The GSRs of f2:\n"
     ]
    },
    {
     "data": {
      "text/latex": [
       "$y_{3}$"
      ],
      "text/plain": [
       "<IPython.core.display.Latex object>"
      ]
     },
     "metadata": {},
     "output_type": "display_data"
    },
    {
     "data": {
      "text/latex": [
       "$x_{12}y_{13}$"
      ],
      "text/plain": [
       "<IPython.core.display.Latex object>"
      ]
     },
     "metadata": {},
     "output_type": "display_data"
    },
    {
     "name": "stdout",
     "output_type": "stream",
     "text": [
      "----\n",
      "The var-min GSRs of f2:\n"
     ]
    },
    {
     "data": {
      "text/latex": [
       "$y_{3}$"
      ],
      "text/plain": [
       "<IPython.core.display.Latex object>"
      ]
     },
     "metadata": {},
     "output_type": "display_data"
    }
   ],
   "source": [
    "x3 = Lit('x',{3})\n",
    "x12 = Lit('x',{1,2})\n",
    "y3 = Lit('y',{3})\n",
    "y13 = Lit('y',{1,3})\n",
    "z1 = Lit('z',{1})\n",
    "f1 = AND([OR([x12,y3]),OR([x3,z1])])\n",
    "y2 = Lit('y',{2})\n",
    "y23 = Lit('y',{*range(17)})\n",
    "y34 = Lit('y',{3,4})\n",
    "w3 = Lit('w',{3})\n",
    "\n",
    "\n",
    "\n",
    "print(\"Base Case:\")\n",
    "print(f\"The GSRs of TRUE:\")\n",
    "for s in GSR_SD(TRUE,check_correctness=True,use_decomposability=True):\n",
    "    print(s)\n",
    "print('---------')\n",
    "print(f\"The GSRs of FALSE:\")\n",
    "for s in GSR_SD(FALSE,check_correctness=True,use_decomposability=True):\n",
    "    print(s)\n",
    "print('---------')\n",
    "\n",
    "\n",
    "f1 = AND([y23, OR([x1,AND([y2,w3])])])\n",
    "print(f\"f1: {f1}\")\n",
    "SRs = GSR_SD(f1,use_decomposability=True,var_min=False)\n",
    "print(f\"The GSRs of f1:\")\n",
    "for s in SRs:\n",
    "    view(s)\n",
    "\n",
    "print(\"----\")\n",
    "SRs = GSR_SD(f1,use_decomposability=True,var_min=True)\n",
    "print(f\"The var-min GSRs of f1:\")\n",
    "for s in SRs:\n",
    "    view(s)\n",
    "\n",
    "\n",
    "print(\"----\")\n",
    "f2 = AND([OR([y3,AND([x12,y13])])])\n",
    "print(f\"f2: {f2}\")\n",
    "SRs = GSR_SD(f2,use_decomposability=True,var_min=False,check_correctness=True)\n",
    "print(f\"The GSRs of f2:\")\n",
    "for s in SRs:\n",
    "    view(s)\n",
    "print(\"----\")\n",
    "SRs = GSR_SD(f2,use_decomposability=True,var_min=True)\n",
    "print(f\"The var-min GSRs of f2:\")\n",
    "for s in SRs:\n",
    "    view(s)"
   ]
  },
  {
   "cell_type": "code",
   "execution_count": null,
   "metadata": {},
   "outputs": [
    {
     "name": "stdout",
     "output_type": "stream",
     "text": [
      "The autoreload extension is already loaded. To reload it, use:\n",
      "  %reload_ext autoreload\n"
     ]
    }
   ],
   "source": [
    "%load_ext autoreload\n",
    "%autoreload 2\n",
    "from NNF import *\n",
    "from algorithms import *\n",
    "from utils import view\n",
    "\n",
    "from IPython.display import Latex\n"
   ]
  },
  {
   "cell_type": "markdown",
   "metadata": {},
   "source": [
    "## Test SR_Monotone with Cache"
   ]
  },
  {
   "cell_type": "code",
   "execution_count": 28,
   "metadata": {},
   "outputs": [
    {
     "data": {
      "text/latex": [
       "$(x_{12}+p_{1})(z_{1}+p_{1})$"
      ],
      "text/plain": [
       "<IPython.core.display.Latex object>"
      ]
     },
     "metadata": {},
     "output_type": "display_data"
    },
    {
     "name": "stdout",
     "output_type": "stream",
     "text": [
      "The SRs of f1:\n"
     ]
    },
    {
     "data": {
      "text/latex": [
       "$p_{1}$"
      ],
      "text/plain": [
       "<IPython.core.display.Latex object>"
      ]
     },
     "metadata": {},
     "output_type": "display_data"
    },
    {
     "data": {
      "text/latex": [
       "$x_{12}z_{1}$"
      ],
      "text/plain": [
       "<IPython.core.display.Latex object>"
      ]
     },
     "metadata": {},
     "output_type": "display_data"
    },
    {
     "name": "stdout",
     "output_type": "stream",
     "text": [
      "The numbe of GSR_SD() calls: 6\n"
     ]
    }
   ],
   "source": [
    "x12 = Lit('x',{1,2})\n",
    "x2 = Lit('x',{2})\n",
    "y2 = Lit('y',{2})\n",
    "z1 = Lit('z',{1})\n",
    "w3 = Lit('w',{3})\n",
    "p1 = Lit('p',{1})\n",
    "q1 = Lit('q',{1})\n",
    "\n",
    "\n",
    "f1 = AND([OR([x12,p1]), OR([z1,p1])])\n",
    "view(f1)\n",
    "print(f\"The SRs of f1:\")\n",
    "sr, call = GSR_SD(f1,check_correctness=True,use_decomposability=True,var_min=False)\n",
    "for s in sr:\n",
    "    view(s)\n",
    "\n",
    "print(f\"The number of GSR_SD() calls: {call}\")\n"
   ]
  },
  {
   "cell_type": "code",
   "execution_count": null,
   "metadata": {},
   "outputs": [
    {
     "ename": "TypeError",
     "evalue": "unhashable type: 'MyClass'",
     "output_type": "error",
     "traceback": [
      "\u001b[0;31m---------------------------------------------------------------------------\u001b[0m",
      "\u001b[0;31mTypeError\u001b[0m                                 Traceback (most recent call last)",
      "Cell \u001b[0;32mIn[10], line 13\u001b[0m\n\u001b[1;32m     11\u001b[0m obj \u001b[38;5;241m=\u001b[39m MyClass(\u001b[38;5;241m10\u001b[39m)\n\u001b[1;32m     12\u001b[0m my_dict \u001b[38;5;241m=\u001b[39m {}\n\u001b[0;32m---> 13\u001b[0m \u001b[43mmy_dict\u001b[49m\u001b[43m[\u001b[49m\u001b[43mobj\u001b[49m\u001b[43m]\u001b[49m \u001b[38;5;241m=\u001b[39m \u001b[38;5;124m'\u001b[39m\u001b[38;5;124mExample\u001b[39m\u001b[38;5;124m'\u001b[39m\n",
      "\u001b[0;31mTypeError\u001b[0m: unhashable type: 'MyClass'"
     ]
    }
   ],
   "source": [
    "class MyClass:\n",
    "    def __init__(self, value):\n",
    "        self.value = value\n",
    "\n",
    "    def __eq__(self, other):\n",
    "        if not isinstance(other, MyClass):\n",
    "            return NotImplemented\n",
    "        return self.value == other.value\n",
    "\n",
    "# Attempting to use MyClass instances as dictionary keys\n",
    "obj = MyClass(10)\n",
    "my_dict = {}\n",
    "my_dict[obj] = 'Example'"
   ]
  }
 ],
 "metadata": {
  "kernelspec": {
   "display_name": "Python 3.11.3 64-bit",
   "language": "python",
   "name": "python3"
  },
  "language_info": {
   "codemirror_mode": {
    "name": "ipython",
    "version": 3
   },
   "file_extension": ".py",
   "mimetype": "text/x-python",
   "name": "python",
   "nbconvert_exporter": "python",
   "pygments_lexer": "ipython3",
   "version": "3.11.3"
  },
  "orig_nbformat": 4,
  "vscode": {
   "interpreter": {
    "hash": "aee8b7b246df8f9039afb4144a1f6fd8d2ca17a180786b69acc140d282b71a49"
   }
  }
 },
 "nbformat": 4,
 "nbformat_minor": 2
}
